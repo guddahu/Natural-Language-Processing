{
 "cells": [
  {
   "cell_type": "code",
   "execution_count": 39,
   "id": "9a90c3ee",
   "metadata": {},
   "outputs": [],
   "source": [
    "import sklearn\n",
    "import nltk\n",
    "from sklearn.datasets import load_files\n",
    "from nltk.corpus import movie_reviews\n",
    "from sklearn.feature_extraction.text import CountVectorizer\n",
    "from sklearn.feature_extraction.text import TfidfTransformer\n",
    "\n",
    "moviedir = r'C:\\Users\\aditt\\AppData\\Roaming\\nltk_data\\corpora\\movie_reviews'\n",
    "movie_train = load_files(moviedir, shuffle=True)\n"
   ]
  },
  {
   "cell_type": "code",
   "execution_count": 40,
   "id": "3e94edd3",
   "metadata": {},
   "outputs": [],
   "source": [
    "# initialize movie_vector object, and then turn movie train data into a vector \n",
    "movie_vec = CountVectorizer(min_df=2, tokenizer=nltk.word_tokenize)         # use all 25K words. 82.2% acc.\n",
    "# movie_vec = CountVectorizer(min_df=2, tokenizer=nltk.word_tokenize, max_features = 3000) # use top 3000 words only. 78.5% acc.\n",
    "movie_counts = movie_vec.fit_transform(movie_train.data)"
   ]
  },
  {
   "cell_type": "code",
   "execution_count": 41,
   "id": "8e097e49",
   "metadata": {},
   "outputs": [],
   "source": [
    "tfidf_transformer = TfidfTransformer()\n",
    "movie_tfidf = tfidf_transformer.fit_transform(movie_counts)\n",
    "docs_train, docs_test, y_train, y_test = train_test_split(\n",
    "    movie_train.data, movie_train.target, test_size = 0.20, random_state = 12)\n"
   ]
  },
  {
   "cell_type": "code",
   "execution_count": 42,
   "id": "bcdc6bc2",
   "metadata": {},
   "outputs": [
    {
     "name": "stdout",
     "output_type": "stream",
     "text": [
      "              precision    recall  f1-score   support\n",
      "\n",
      "           0       0.60      0.57      0.58       206\n",
      "           1       0.56      0.59      0.58       194\n",
      "\n",
      "    accuracy                           0.58       400\n",
      "   macro avg       0.58      0.58      0.58       400\n",
      "weighted avg       0.58      0.58      0.58       400\n",
      "\n"
     ]
    }
   ],
   "source": [
    "import gensim\n",
    "from gensim.models import Word2Vec\n",
    "from sklearn.linear_model import LogisticRegression\n",
    "import numpy as np\n",
    "from sklearn.metrics import classification_report\n",
    "\n",
    "w2v = Word2Vec(docs_train,vector_size = 1000, window = 5, workers = 4, min_count = 1,sg=1)\n",
    "vocab = w2v.wv.key_to_index.keys()\n",
    "opp = 0\n",
    "average_list = []\n",
    "train_vec = []\n",
    "for i in docs_train:\n",
    "# this is a good product 5 ---> 1\n",
    "\n",
    "        if opp == 29:\n",
    "            opp = 29\n",
    "        for token in i:\n",
    "          if token in vocab:\n",
    "            average_list.append(w2v.wv.get_vector(token))\n",
    "\n",
    "          else:\n",
    "            average_list.append(np.zeros(1000))\n",
    "\n",
    "        train_vec.append(np.mean(average_list, axis = 0).tolist())\n",
    "        opp += 1\n",
    "        average_list = []\n",
    "\n",
    "j = 0\n",
    "for i in train_vec:\n",
    "    if type(i) is list:\n",
    "        j+=1\n",
    "        continue\n",
    "    elif np.isnan(i):\n",
    "        train_vec[j] = [0] * 1000\n",
    "    j += 1\n",
    "\n",
    "wmod = LogisticRegression(max_iter=10000, multi_class='multinomial',solver='lbfgs',class_weight='balanced')\n",
    "wmod.fit(train_vec, y_train)\n",
    "\n",
    "test_vec = []\n",
    "\n",
    "for i in docs_test:\n",
    "\n",
    "        for token in i:\n",
    "          if token in vocab:\n",
    "            average_list.append(w2v.wv.get_vector(token))\n",
    "          else:\n",
    "            average_list.append(np.zeros(1000))\n",
    "\n",
    "        test_vec.append(np.mean(average_list, axis = 0).tolist())\n",
    "        opp += 1\n",
    "        average_list = []\n",
    "\n",
    "j = 0\n",
    "for i in test_vec:\n",
    "    if type(i) is list:\n",
    "        j+=1\n",
    "        continue\n",
    "    elif np.isnan(i):\n",
    "        test_vec[j] = [0] * 1000\n",
    "    j += 1\n",
    "\n",
    "y_pred = wmod.predict(test_vec)\n",
    "print(classification_report(y_test,y_pred))\n"
   ]
  },
  {
   "cell_type": "code",
   "execution_count": null,
   "id": "5b987872",
   "metadata": {},
   "outputs": [],
   "source": []
  },
  {
   "cell_type": "code",
   "execution_count": null,
   "id": "74cf7655",
   "metadata": {},
   "outputs": [],
   "source": []
  }
 ],
 "metadata": {
  "kernelspec": {
   "display_name": "Python 3",
   "language": "python",
   "name": "python3"
  },
  "language_info": {
   "codemirror_mode": {
    "name": "ipython",
    "version": 3
   },
   "file_extension": ".py",
   "mimetype": "text/x-python",
   "name": "python",
   "nbconvert_exporter": "python",
   "pygments_lexer": "ipython3",
   "version": "3.9.2"
  }
 },
 "nbformat": 4,
 "nbformat_minor": 5
}
