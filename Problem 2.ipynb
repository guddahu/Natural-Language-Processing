{
 "cells": [
  {
   "cell_type": "code",
   "execution_count": 48,
   "id": "3baf03c0",
   "metadata": {
    "scrolled": true
   },
   "outputs": [
    {
     "data": {
      "text/html": [
       "<div>\n",
       "<style scoped>\n",
       "    .dataframe tbody tr th:only-of-type {\n",
       "        vertical-align: middle;\n",
       "    }\n",
       "\n",
       "    .dataframe tbody tr th {\n",
       "        vertical-align: top;\n",
       "    }\n",
       "\n",
       "    .dataframe thead th {\n",
       "        text-align: right;\n",
       "    }\n",
       "</style>\n",
       "<table border=\"1\" class=\"dataframe\">\n",
       "  <thead>\n",
       "    <tr style=\"text-align: right;\">\n",
       "      <th></th>\n",
       "      <th>review</th>\n",
       "      <th>sentiment</th>\n",
       "    </tr>\n",
       "  </thead>\n",
       "  <tbody>\n",
       "    <tr>\n",
       "      <th>0</th>\n",
       "      <td>One of the other reviewers has mentioned that ...</td>\n",
       "      <td>positive</td>\n",
       "    </tr>\n",
       "    <tr>\n",
       "      <th>1</th>\n",
       "      <td>A wonderful little production. &lt;br /&gt;&lt;br /&gt;The...</td>\n",
       "      <td>positive</td>\n",
       "    </tr>\n",
       "    <tr>\n",
       "      <th>2</th>\n",
       "      <td>I thought this was a wonderful way to spend ti...</td>\n",
       "      <td>positive</td>\n",
       "    </tr>\n",
       "    <tr>\n",
       "      <th>3</th>\n",
       "      <td>Basically there's a family where a little boy ...</td>\n",
       "      <td>negative</td>\n",
       "    </tr>\n",
       "    <tr>\n",
       "      <th>4</th>\n",
       "      <td>Petter Mattei's \"Love in the Time of Money\" is...</td>\n",
       "      <td>positive</td>\n",
       "    </tr>\n",
       "  </tbody>\n",
       "</table>\n",
       "</div>"
      ],
      "text/plain": [
       "                                              review sentiment\n",
       "0  One of the other reviewers has mentioned that ...  positive\n",
       "1  A wonderful little production. <br /><br />The...  positive\n",
       "2  I thought this was a wonderful way to spend ti...  positive\n",
       "3  Basically there's a family where a little boy ...  negative\n",
       "4  Petter Mattei's \"Love in the Time of Money\" is...  positive"
      ]
     },
     "execution_count": 48,
     "metadata": {},
     "output_type": "execute_result"
    }
   ],
   "source": [
    "import pandas as pd\n",
    "df = pd.read_csv('IMDB Dataset.csv')\n",
    "df.head()"
   ]
  },
  {
   "cell_type": "code",
   "execution_count": 49,
   "id": "0c17a6ad",
   "metadata": {},
   "outputs": [],
   "source": [
    "df.loc[df['sentiment'] == 'positive', 'sentiment'] = int(1)\n",
    "df.loc[df['sentiment'] == 'negative', 'sentiment'] = int(0)\n",
    "df = df[:1000]"
   ]
  },
  {
   "cell_type": "code",
   "execution_count": 50,
   "id": "9957986b",
   "metadata": {},
   "outputs": [],
   "source": [
    "df['review']=df['review'].str.lower()\n",
    "from nltk.corpus import stopwords\n",
    "from gensim.parsing.preprocessing import remove_stopwords, preprocess_string\n",
    "#reference https://machinelearningknowledge.ai/11-techniques-of-text-preprocessing-using-nltk-in-python/   \n",
    "# def remove_stopwords(text):\n",
    "#     return remove_stopwords(text)\n",
    "# df['review'] = df['review'].apply(remove_stopwords)\n",
    "\n",
    "# from nltk.stem import WordNetLemmatizer\n",
    "# from nltk import word_tokenize,pos_tag\n",
    "\n",
    "# def lemmatization(text):\n",
    "    \n",
    "#     result=[]\n",
    "#     wordnet = WordNetLemmatizer()\n",
    "#     for token,tag in pos_tag(text.split()):\n",
    "#         pos=tag[0].lower()\n",
    "        \n",
    "#         if pos not in ['a', 'r', 'n', 'v']:\n",
    "#             pos='n'\n",
    "            \n",
    "#         result.append(wordnet.lemmatize(token,pos))\n",
    "#     rop = ''\n",
    "#     for i in result:\n",
    "#         rop += i + ' '\n",
    "        \n",
    "#     return rop\n",
    "# df['review'] = df['review'].apply(lemmatization)\n",
    "\n"
   ]
  },
  {
   "cell_type": "code",
   "execution_count": 42,
   "id": "2234b8c3",
   "metadata": {},
   "outputs": [
    {
     "data": {
      "text/html": [
       "<div>\n",
       "<style scoped>\n",
       "    .dataframe tbody tr th:only-of-type {\n",
       "        vertical-align: middle;\n",
       "    }\n",
       "\n",
       "    .dataframe tbody tr th {\n",
       "        vertical-align: top;\n",
       "    }\n",
       "\n",
       "    .dataframe thead th {\n",
       "        text-align: right;\n",
       "    }\n",
       "</style>\n",
       "<table border=\"1\" class=\"dataframe\">\n",
       "  <thead>\n",
       "    <tr style=\"text-align: right;\">\n",
       "      <th></th>\n",
       "      <th>review</th>\n",
       "      <th>sentiment</th>\n",
       "    </tr>\n",
       "  </thead>\n",
       "  <tbody>\n",
       "    <tr>\n",
       "      <th>0</th>\n",
       "      <td>one of the other reviewers has mentioned that ...</td>\n",
       "      <td>1</td>\n",
       "    </tr>\n",
       "    <tr>\n",
       "      <th>1</th>\n",
       "      <td>a wonderful little production. &lt;br /&gt;&lt;br /&gt;the...</td>\n",
       "      <td>1</td>\n",
       "    </tr>\n",
       "    <tr>\n",
       "      <th>2</th>\n",
       "      <td>i thought this was a wonderful way to spend ti...</td>\n",
       "      <td>1</td>\n",
       "    </tr>\n",
       "    <tr>\n",
       "      <th>3</th>\n",
       "      <td>basically there's a family where a little boy ...</td>\n",
       "      <td>0</td>\n",
       "    </tr>\n",
       "    <tr>\n",
       "      <th>4</th>\n",
       "      <td>petter mattei's \"love in the time of money\" is...</td>\n",
       "      <td>1</td>\n",
       "    </tr>\n",
       "  </tbody>\n",
       "</table>\n",
       "</div>"
      ],
      "text/plain": [
       "                                              review sentiment\n",
       "0  one of the other reviewers has mentioned that ...         1\n",
       "1  a wonderful little production. <br /><br />the...         1\n",
       "2  i thought this was a wonderful way to spend ti...         1\n",
       "3  basically there's a family where a little boy ...         0\n",
       "4  petter mattei's \"love in the time of money\" is...         1"
      ]
     },
     "execution_count": 42,
     "metadata": {},
     "output_type": "execute_result"
    }
   ],
   "source": [
    "df.head()"
   ]
  },
  {
   "cell_type": "code",
   "execution_count": 43,
   "id": "d8d909e0",
   "metadata": {},
   "outputs": [],
   "source": [
    "from sklearn.model_selection import train_test_split\n",
    "X_train,X_test,Y_train, Y_test = train_test_split(df['review'], df['sentiment'], test_size=0.25, random_state=30)"
   ]
  },
  {
   "cell_type": "code",
   "execution_count": 44,
   "id": "29b1f189",
   "metadata": {},
   "outputs": [],
   "source": [
    "from sklearn.feature_extraction.text import TfidfVectorizer\n",
    "vectorizer= TfidfVectorizer()\n",
    "tf_x_train = vectorizer.fit_transform(X_train)\n",
    "tf_x_test = vectorizer.transform(X_test)"
   ]
  },
  {
   "cell_type": "code",
   "execution_count": 15,
   "id": "a428fe3c",
   "metadata": {},
   "outputs": [
    {
     "data": {
      "text/plain": [
       "{'0': {'precision': 0.8832913518052057,\n",
       "  'recall': 0.8694214876033057,\n",
       "  'f1-score': 0.876301541024573,\n",
       "  'support': 1210},\n",
       " '1': {'precision': 0.8792971734148205,\n",
       "  'recall': 0.8922480620155039,\n",
       "  'f1-score': 0.8857252789534438,\n",
       "  'support': 1290},\n",
       " 'accuracy': 0.8812,\n",
       " 'macro avg': {'precision': 0.8812942626100131,\n",
       "  'recall': 0.8808347748094048,\n",
       "  'f1-score': 0.8810134099890083,\n",
       "  'support': 2500},\n",
       " 'weighted avg': {'precision': 0.8812303557557669,\n",
       "  'recall': 0.8812,\n",
       "  'f1-score': 0.8811641897958703,\n",
       "  'support': 2500}}"
      ]
     },
     "execution_count": 15,
     "metadata": {},
     "output_type": "execute_result"
    }
   ],
   "source": [
    "from sklearn.svm import SVC\n",
    "\n",
    "clf = SVC(random_state=0)\n",
    "Y_train=Y_train.astype('int')\n",
    "Y_test=Y_test.astype('int')\n",
    "clf.fit(tf_x_train,Y_train)\n",
    "\n",
    "y_test_pred=clf.predict(tf_x_test)\n",
    "from sklearn.metrics import classification_report\n",
    "report=classification_report(Y_test, y_test_pred,output_dict=True)\n",
    "report"
   ]
  },
  {
   "cell_type": "code",
   "execution_count": 45,
   "id": "b2c8269e",
   "metadata": {},
   "outputs": [
    {
     "name": "stderr",
     "output_type": "stream",
     "text": [
      "C:\\Users\\aditt\\AppData\\Local\\Programs\\Python\\Python310\\lib\\site-packages\\sklearn\\linear_model\\_logistic.py:814: ConvergenceWarning: lbfgs failed to converge (status=1):\n",
      "STOP: TOTAL NO. of ITERATIONS REACHED LIMIT.\n",
      "\n",
      "Increase the number of iterations (max_iter) or scale the data as shown in:\n",
      "    https://scikit-learn.org/stable/modules/preprocessing.html\n",
      "Please also refer to the documentation for alternative solver options:\n",
      "    https://scikit-learn.org/stable/modules/linear_model.html#logistic-regression\n",
      "  n_iter_i = _check_optimize_result(\n"
     ]
    },
    {
     "data": {
      "text/plain": [
       "{'0': {'precision': 0.9060391640612144,\n",
       "  'recall': 0.881100976156185,\n",
       "  'f1-score': 0.8933960733409054,\n",
       "  'support': 6249},\n",
       " '1': {'precision': 0.8843219679277596,\n",
       "  'recall': 0.9086546152615581,\n",
       "  'f1-score': 0.8963231813160801,\n",
       "  'support': 6251},\n",
       " 'accuracy': 0.89488,\n",
       " 'macro avg': {'precision': 0.895180565994487,\n",
       "  'recall': 0.8948777957088716,\n",
       "  'f1-score': 0.8948596273284928,\n",
       "  'support': 12500},\n",
       " 'weighted avg': {'precision': 0.8951788286187963,\n",
       "  'recall': 0.89488,\n",
       "  'f1-score': 0.8948598614971308,\n",
       "  'support': 12500}}"
      ]
     },
     "execution_count": 45,
     "metadata": {},
     "output_type": "execute_result"
    }
   ],
   "source": [
    "from sklearn.linear_model import LogisticRegression\n",
    "\n",
    "clf = LogisticRegression(random_state=0)\n",
    "Y_train=Y_train.astype('int')\n",
    "Y_test=Y_test.astype('int')\n",
    "clf.fit(tf_x_train,Y_train)\n",
    "\n",
    "y_test_pred=clf.predict(tf_x_test)\n",
    "from sklearn.metrics import classification_report\n",
    "report=classification_report(Y_test, y_test_pred,output_dict=True)\n",
    "report"
   ]
  },
  {
   "cell_type": "code",
   "execution_count": 60,
   "id": "ccff733d",
   "metadata": {},
   "outputs": [
    {
     "name": "stderr",
     "output_type": "stream",
     "text": [
      "Token indices sequence length is longer than the specified maximum sequence length for this model (563 > 512). Running this sequence through the model will result in indexing errors\n"
     ]
    },
    {
     "name": "stdout",
     "output_type": "stream",
     "text": [
      "{'0': {'precision': 0.5087440381558028, 'recall': 0.5055292259083728, 'f1-score': 0.5071315372424723, 'support': 633}, '1': {'precision': 0.49597423510466987, 'recall': 0.4991896272285251, 'f1-score': 0.49757673667205166, 'support': 617}, 'accuracy': 0.5024, 'macro avg': {'precision': 0.5023591366302363, 'recall': 0.502359426568449, 'f1-score': 0.5023541369572619, 'support': 1250}, 'weighted avg': {'precision': 0.5024408633697636, 'recall': 0.5024, 'f1-score': 0.5024152876809127, 'support': 1250}}\n"
     ]
    },
    {
     "name": "stderr",
     "output_type": "stream",
     "text": [
      "C:\\Users\\aditt\\AppData\\Local\\Programs\\Python\\Python310\\lib\\site-packages\\sklearn\\linear_model\\_logistic.py:814: ConvergenceWarning: lbfgs failed to converge (status=1):\n",
      "STOP: TOTAL NO. of ITERATIONS REACHED LIMIT.\n",
      "\n",
      "Increase the number of iterations (max_iter) or scale the data as shown in:\n",
      "    https://scikit-learn.org/stable/modules/preprocessing.html\n",
      "Please also refer to the documentation for alternative solver options:\n",
      "    https://scikit-learn.org/stable/modules/linear_model.html#logistic-regression\n",
      "  n_iter_i = _check_optimize_result(\n"
     ]
    }
   ],
   "source": [
    "import pandas as pd\n",
    "from sklearn.model_selection import train_test_split\n",
    "\n",
    "df = pd.read_csv('IMDB Dataset.csv')\n",
    "\n",
    "df.loc[df['sentiment'] == 'positive', 'sentiment'] = int(1)\n",
    "df.loc[df['sentiment'] == 'negative', 'sentiment'] = int(0)\n",
    "df = df[:5000]\n",
    "df['review']=df['review'].str.lower()\n",
    "from transformers import BertTokenizer\n",
    "tokenizer = BertTokenizer.from_pretrained(\"bert-base-uncased\")\n",
    "X =[]\n",
    "maxi = df[\"review\"].str.len().max()\n",
    "\n",
    "for i in df['review']:\n",
    "    j = tokenizer.encode(i)\n",
    "    if len(j) > 512:\n",
    "        j = j[:511] + [j[-1]]\n",
    "    j = j + [0] *(512 - len(j))\n",
    "    X.append(j)\n",
    "#print(X)\n",
    "X_train,X_test,Y_train, Y_test = train_test_split(X, df['sentiment'], test_size=0.25, random_state=30)    \n",
    "\n",
    "from sklearn.linear_model import LogisticRegression\n",
    "\n",
    "clf = LogisticRegression(random_state=0)\n",
    "Y_train=Y_train.astype('int')\n",
    "Y_test=Y_test.astype('int')\n",
    "clf.fit(X_train,Y_train)\n",
    "\n",
    "y_test_pred=clf.predict(X_test)\n",
    "from sklearn.metrics import classification_report\n",
    "report=classification_report(Y_test, y_test_pred,output_dict=True)\n",
    "print(report)"
   ]
  },
  {
   "cell_type": "code",
   "execution_count": 61,
   "id": "bc0a9555",
   "metadata": {},
   "outputs": [],
   "source": [
    "from keras.preprocessing import sequence\n",
    "from keras.models import Sequential\n",
    "from keras.layers import Dense, Embedding\n",
    "from keras.layers import LSTM\n",
    "from keras.datasets import imdb\n"
   ]
  },
  {
   "cell_type": "code",
   "execution_count": 62,
   "id": "a88d82dd",
   "metadata": {},
   "outputs": [
    {
     "name": "stdout",
     "output_type": "stream",
     "text": [
      "Loading data...\n",
      "Downloading data from https://storage.googleapis.com/tensorflow/tf-keras-datasets/imdb.npz\n",
      "17465344/17464789 [==============================] - 3s 0us/step\n",
      "17473536/17464789 [==============================] - 3s 0us/step\n",
      "25000 train sequences\n",
      "25000 test sequences\n",
      "Pad sequences (samples x time)\n",
      "x_train shape: (25000, 80)\n",
      "x_test shape: (25000, 80)\n",
      "Build model...\n",
      "Train...\n",
      "Epoch 1/15\n",
      "782/782 [==============================] - 241s 299ms/step - loss: 0.4308 - accuracy: 0.7968 - val_loss: 0.3821 - val_accuracy: 0.8321\n",
      "Epoch 2/15\n",
      "782/782 [==============================] - 196s 250ms/step - loss: 0.2521 - accuracy: 0.8988 - val_loss: 0.3703 - val_accuracy: 0.8389\n",
      "Epoch 3/15\n",
      "782/782 [==============================] - 187s 240ms/step - loss: 0.1610 - accuracy: 0.9390 - val_loss: 0.4265 - val_accuracy: 0.8230\n",
      "Epoch 4/15\n",
      "782/782 [==============================] - 174s 222ms/step - loss: 0.1033 - accuracy: 0.9631 - val_loss: 0.5152 - val_accuracy: 0.8214\n",
      "Epoch 5/15\n",
      "782/782 [==============================] - 175s 224ms/step - loss: 0.0682 - accuracy: 0.9770 - val_loss: 0.6241 - val_accuracy: 0.8185\n",
      "Epoch 6/15\n",
      "782/782 [==============================] - 176s 225ms/step - loss: 0.0524 - accuracy: 0.9829 - val_loss: 0.7559 - val_accuracy: 0.8196\n",
      "Epoch 7/15\n",
      "782/782 [==============================] - 185s 236ms/step - loss: 0.0330 - accuracy: 0.9895 - val_loss: 0.7506 - val_accuracy: 0.8182\n",
      "Epoch 8/15\n",
      "782/782 [==============================] - 183s 234ms/step - loss: 0.0279 - accuracy: 0.9903 - val_loss: 0.8206 - val_accuracy: 0.8184\n",
      "Epoch 9/15\n",
      "782/782 [==============================] - 175s 224ms/step - loss: 0.0227 - accuracy: 0.9930 - val_loss: 0.9703 - val_accuracy: 0.8168\n",
      "Epoch 10/15\n",
      "782/782 [==============================] - 180s 231ms/step - loss: 0.0210 - accuracy: 0.9933 - val_loss: 0.9023 - val_accuracy: 0.8171\n",
      "Epoch 11/15\n",
      "782/782 [==============================] - 170s 217ms/step - loss: 0.0136 - accuracy: 0.9955 - val_loss: 0.9371 - val_accuracy: 0.8178\n",
      "Epoch 12/15\n",
      "782/782 [==============================] - 170s 218ms/step - loss: 0.0124 - accuracy: 0.9960 - val_loss: 1.1030 - val_accuracy: 0.8136\n",
      "Epoch 13/15\n",
      "782/782 [==============================] - 168s 215ms/step - loss: 0.0103 - accuracy: 0.9969 - val_loss: 1.0325 - val_accuracy: 0.8092\n",
      "Epoch 14/15\n",
      "782/782 [==============================] - 195s 250ms/step - loss: 0.0127 - accuracy: 0.9958 - val_loss: 1.0461 - val_accuracy: 0.8007\n",
      "Epoch 15/15\n",
      "782/782 [==============================] - 231s 295ms/step - loss: 0.0099 - accuracy: 0.9969 - val_loss: 1.0592 - val_accuracy: 0.8108\n",
      "782/782 [==============================] - 31s 39ms/step - loss: 1.0592 - accuracy: 0.8108\n",
      "Test score: 1.0591710805892944\n",
      "Test accuracy: 0.8108000159263611\n"
     ]
    }
   ],
   "source": [
    "# Learned fron a tutorial\n",
    "max_features = 20000\n",
    "maxlen = 80  \n",
    "batch_size = 32\n",
    "\n",
    "(x_train, y_train), (x_test, y_test) = imdb.load_data(num_words=max_features)\n",
    "print(len(x_train), 'train sequences')\n",
    "print(len(x_test), 'test sequences')\n",
    "\n",
    "x_train = sequence.pad_sequences(x_train, maxlen=maxlen)\n",
    "x_test = sequence.pad_sequences(x_test, maxlen=maxlen)\n",
    "\n",
    "model = Sequential()\n",
    "model.add(Embedding(max_features, 128))\n",
    "model.add(LSTM(128, dropout=0.2, recurrent_dropout=0.2))\n",
    "model.add(Dense(1, activation='sigmoid'))\n",
    "\n",
    "model.compile(loss='binary_crossentropy',\n",
    "              optimizer='adam',\n",
    "              metrics=['accuracy'])\n",
    "\n",
    "model.fit(x_train, y_train,\n",
    "          batch_size=batch_size,\n",
    "          epochs=15,\n",
    "          validation_data=(x_test, y_test))\n",
    "score, acc = model.evaluate(x_test, y_test,\n",
    "                            batch_size=batch_size)\n",
    "print('Test score:', score)\n",
    "print('Test accuracy:', acc)"
   ]
  },
  {
   "cell_type": "code",
   "execution_count": null,
   "id": "f2295ef9",
   "metadata": {},
   "outputs": [],
   "source": []
  }
 ],
 "metadata": {
  "kernelspec": {
   "display_name": "Python 3 (ipykernel)",
   "language": "python",
   "name": "python3"
  },
  "language_info": {
   "codemirror_mode": {
    "name": "ipython",
    "version": 3
   },
   "file_extension": ".py",
   "mimetype": "text/x-python",
   "name": "python",
   "nbconvert_exporter": "python",
   "pygments_lexer": "ipython3",
   "version": "3.10.4"
  }
 },
 "nbformat": 4,
 "nbformat_minor": 5
}
