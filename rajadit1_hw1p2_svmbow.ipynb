{
 "cells": [
  {
   "cell_type": "code",
   "execution_count": 25,
   "id": "54b3dbb0",
   "metadata": {},
   "outputs": [],
   "source": [
    "import sklearn\n",
    "import nltk\n",
    "from sklearn.datasets import load_files\n",
    "from nltk.corpus import movie_reviews\n",
    "from sklearn.feature_extraction.text import CountVectorizer\n",
    "from sklearn.feature_extraction.text import TfidfTransformer\n",
    "\n",
    "moviedir = r'C:\\Users\\aditt\\AppData\\Roaming\\nltk_data\\corpora\\movie_reviews'\n",
    "movie_train = load_files(moviedir, shuffle=True)\n"
   ]
  },
  {
   "cell_type": "code",
   "execution_count": 27,
   "id": "3f52b4ce",
   "metadata": {},
   "outputs": [
    {
     "data": {
      "text/plain": [
       "<2000x46463 sparse matrix of type '<class 'numpy.int64'>'\n",
       "\twith 685193 stored elements in Compressed Sparse Row format>"
      ]
     },
     "execution_count": 27,
     "metadata": {},
     "output_type": "execute_result"
    }
   ],
   "source": [
    "# initialize movie_vector object, and then turn movie train data into a vector \n",
    "movie_vec = CountVectorizer(ngram_range=(1, 1), tokenizer=nltk.word_tokenize)         # use all 25K words. 82.2% acc.\n",
    "# movie_vec = CountVectorizer(min_df=2, tokenizer=nltk.word_tokenize, max_features = 3000) # use top 3000 words only. 78.5% acc.\n",
    "movie_counts = movie_vec.fit_transform(movie_train.data)\n",
    "movie_counts"
   ]
  },
  {
   "cell_type": "code",
   "execution_count": 28,
   "id": "5eb64120",
   "metadata": {},
   "outputs": [],
   "source": [
    "from sklearn.naive_bayes import MultinomialNB\n",
    "# Split data into training and test sets\n",
    "# from sklearn.cross_validation import train_test_split  # deprecated in 0.18\n",
    "from sklearn.model_selection import train_test_split\n",
    "docs_train, docs_test, y_train, y_test = train_test_split(\n",
    "    movie_counts, movie_train.target, test_size = 0.20, random_state = 12)\n"
   ]
  },
  {
   "cell_type": "code",
   "execution_count": 29,
   "id": "5f5c7990",
   "metadata": {},
   "outputs": [],
   "source": [
    "from sklearn import svm\n",
    "clf = svm.SVC()\n",
    "clf = clf.fit(docs_train, y_train)"
   ]
  },
  {
   "cell_type": "code",
   "execution_count": 30,
   "id": "cb3fe00d",
   "metadata": {},
   "outputs": [
    {
     "name": "stdout",
     "output_type": "stream",
     "text": [
      "Accuracy: 0.6925\n",
      "Precision: 0.7005649717514124\n",
      "Recall: 0.6391752577319587\n",
      "F1: 0.6684636118598383\n"
     ]
    }
   ],
   "source": [
    "# Predicting the Test set results, find accuracy\n",
    "y_pred = clf.predict(docs_test)\n",
    "print('Accuracy: {}'.format(sklearn.metrics.accuracy_score(y_test, y_pred)))\n",
    "print('Precision: {}'.format(sklearn.metrics.precision_score(y_test, y_pred)))\n",
    "print('Recall: {}'.format(sklearn.metrics.recall_score(y_test, y_pred)))\n",
    "print('F1: {}'.format(sklearn.metrics.f1_score(y_test, y_pred)))"
   ]
  },
  {
   "cell_type": "code",
   "execution_count": null,
   "id": "7f4a93a5",
   "metadata": {},
   "outputs": [],
   "source": []
  }
 ],
 "metadata": {
  "kernelspec": {
   "display_name": "Python 3",
   "language": "python",
   "name": "python3"
  },
  "language_info": {
   "codemirror_mode": {
    "name": "ipython",
    "version": 3
   },
   "file_extension": ".py",
   "mimetype": "text/x-python",
   "name": "python",
   "nbconvert_exporter": "python",
   "pygments_lexer": "ipython3",
   "version": "3.9.2"
  }
 },
 "nbformat": 4,
 "nbformat_minor": 5
}
